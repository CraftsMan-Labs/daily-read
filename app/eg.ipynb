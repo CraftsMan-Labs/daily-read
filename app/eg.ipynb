{
 "cells": [
  {
   "cell_type": "code",
   "execution_count": 2,
   "metadata": {},
   "outputs": [
    {
     "data": {
      "text/plain": [
       "'Title: COVID - Coronavirus Statistics - Worldometer\\n\\nURL Source: https://www.worldometers.info/coronavirus/\\n\\nMarkdown Content:\\nCOVID - Coronavirus Statistics - Worldometer\\n=============== \\n\\n \\n\\n[![Image 1](https://www.worldometers.info/img/worldometers-logo.gif)](https://www.worldometers.info/)\\n\\n*   [**Coronavirus**](https://www.worldometers.info/coronavirus/)\\n*   [Population](https://www.worldometers.info/population/)\\n\\n**NOTE:** As of April 13, 2024, the **Coronavirus Tracker is no longer being updated** due to the unfeasibility of providing statistically valid global totals, as **the majority of countries have now stopped reporting**. However, historical data remain accessible. Worldometer delivered the [**most accurate and timely global statistics**](https://www.worldometers.info/coronavirus/most-accurate-and-timely/) to users and institutions around the world at a time when this was extremely challenging. **We thank everyone** who participated in this extraordinary collaborative effort.\\n\\n \\n\\nCOVID-19 Coronavirus Pandemic\\n\\nLast updated: April 13, 2024, 01:00 GMT\\n\\n[Weekly Trends](https://www.worldometers.info/coronavirus/weekly-trends/) - [Graphs](https://www.worldometers.info/coronavirus/worldwide-graphs/) - [Countries](https://www.worldometers.info/coronavirus/#countries) - [News](https://www.worldometers.info/coronavirus/#news)\\n\\nCoronavirus Cases:\\n==================\\n\\n704,753,890\\n\\n[view by country](https://www.worldometers.info/coronavirus/#countries)\\n\\nDeaths:\\n=======\\n\\n7,010,681\\n\\nRecovered:\\n==========\\n\\n675,619,811\\n\\n \\n\\nActive Cases\\n\\n22,123,398\\n\\nCurrently Infected Patients\\n\\n22,088,604 (**99.8**%)\\n\\nin Mild Condition\\n\\n  \\n\\n34,794 (**0.2**%)\\n\\nSerious or Critical\\n\\n  \\n\\n[Show Graph](javascript:void\\\\(0\\\\);)\\n\\n [Show Statistics](javascript:void\\\\(0\\\\);)\\n\\nClosed Cases\\n\\n682,630,492\\n\\nCases which had an outcome:\\n\\n675,619,811 (**99**%)\\n\\nRecovered / Discharged\\n\\n  \\n\\n7,010,681 (**1**%)\\n\\nDeaths\\n\\n  \\n\\n[Show Graph](javascript:void\\\\(0\\\\);)\\n\\n [Show Statistics](javascript:void\\\\(0\\\\);)\\n\\n*   [daily](https://www.worldometers.info/coronavirus/#coronavirus-cases-daily)\\n*   [linear](https://www.worldometers.info/coronavirus/#coronavirus-cases-linear)\\n*   [logarithmic](https://www.worldometers.info/coronavirus/#coronavirus-cases-log)\\n\\n*   [daily](https://www.worldometers.info/coronavirus/#coronavirus-deaths-daily)\\n*   [linear](https://www.worldometers.info/coronavirus/#coronavirus-deaths-linear)\\n*   [logarithmic](https://www.worldometers.info/coronavirus/#coronavirus-deaths-log)\\n'"
      ]
     },
     "execution_count": 2,
     "metadata": {},
     "output_type": "execute_result"
    }
   ],
   "source": [
    "from utils.scraper import scrape_website_data\n",
    "\n",
    "data = scrape_website_data(\"https://www.worldometers.info/coronavirus/\")\n",
    "data"
   ]
  },
  {
   "cell_type": "code",
   "execution_count": null,
   "metadata": {},
   "outputs": [],
   "source": [
    "from utils.gmail_integration import search_emails, authenticate_gmail\n",
    "\n",
    "\n"
   ]
  }
 ],
 "metadata": {
  "kernelspec": {
   "display_name": "sellestial",
   "language": "python",
   "name": "python3"
  },
  "language_info": {
   "codemirror_mode": {
    "name": "ipython",
    "version": 3
   },
   "file_extension": ".py",
   "mimetype": "text/x-python",
   "name": "python",
   "nbconvert_exporter": "python",
   "pygments_lexer": "ipython3",
   "version": "3.11.9"
  }
 },
 "nbformat": 4,
 "nbformat_minor": 2
}
